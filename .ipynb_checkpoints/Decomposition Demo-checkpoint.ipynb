{
 "cells": [
  {
   "cell_type": "markdown",
   "metadata": {},
   "source": [
    "# Notebook Setup\n"
   ]
  },
  {
   "cell_type": "code",
   "execution_count": 1,
   "metadata": {
    "collapsed": false
   },
   "outputs": [],
   "source": [
    "import pickle\n",
    "import numpy as np\n",
    "import matplotlib.pyplot as plt\n",
    "%matplotlib inline\n",
    "plt.style.use('ggplot')"
   ]
  },
  {
   "cell_type": "markdown",
   "metadata": {},
   "source": [
    "# Example Data"
   ]
  },
  {
   "cell_type": "code",
   "execution_count": null,
   "metadata": {
    "collapsed": true
   },
   "outputs": [],
   "source": [
    "# with open('Pypsy/signal/sample_eda_signal.pickle', 'rb') as f:\n",
    "#     eda_signal = pickle.load(f)\n",
    "\n",
    "# eda_signal.decompose_signal(optimize=False)\n",
    "\n",
    "\n",
    "# fig = plt.figure(figsize=(14,20))\n",
    "\n",
    "# ax1 = fig.add_subplot(511)\n",
    "# plt.plot(eda_signal.data)\n",
    "# plt.title('Original SC Data')\n",
    "\n",
    "# ax2 = fig.add_subplot(512)\n",
    "# plt.plot(eda_signal.composite_driver, label='Composite Driver')\n",
    "# plt.plot(eda_signal.tonic_driver, label='Tonic Driver')\n",
    "# plt.legend()\n",
    "# med = np.median(eda_signal.composite_driver + eda_signal.tonic_driver)\n",
    "# plt.ylim([med - 20, med + 25])\n",
    "# plt.title('Standard Deconvolution: Inter-Impulse Fit = Tonic Driver')\n",
    "\n",
    "\n",
    "# ax3 = fig.add_subplot(513)\n",
    "# plt.plot(eda_signal.data - eda_signal.tonic_data)\n",
    "# plt.title('Original SC Data minus Tonic Data')\n",
    "\n",
    "# ax4 = fig.add_subplot(514)\n",
    "# plt.plot(eda_signal.phasic_driver)\n",
    "# plt.ylim([-5,15])\n",
    "# plt.title('Phasic Driver')\n",
    "\n",
    "# ax5 = fig.add_subplot(515)\n",
    "# plt.plot(eda_signal.tonic_data, label='Tonic')\n",
    "# plt.plot(eda_signal.phasic_data, label='Phasic')\n",
    "# plt.plot(eda_signal.phasic_data + eda_signal.tonic_data, label='Reconstructed Signal')\n",
    "# plt.title('Reconstructed Signal')\n",
    "# plt.legend()\n",
    "# \n",
    "# # plt.tight_layout()\n",
    "# # plt.show()\n",
    "# \n",
    "# eda_signal.decompose_signal(optimize=True)\n",
    "# \n",
    "# fig = plt.figure(figsize=(14,20))\n",
    "# \n",
    "# ax1 = fig.add_subplot(511)\n",
    "# plt.plot(eda_signal.data)\n",
    "# plt.title('Original SC Data')\n",
    "# \n",
    "# ax2 = fig.add_subplot(512)\n",
    "# plt.plot(eda_signal.composite_driver, label='Composite Driver')\n",
    "# plt.plot(eda_signal.tonic_driver, label='Tonic Driver')\n",
    "# plt.legend()\n",
    "# med = np.median(eda_signal.composite_driver + eda_signal.tonic_driver)\n",
    "# plt.ylim([med - 20, med + 25])\n",
    "# plt.title('Standard Deconvolution: Inter-Impulse Fit = Tonic Driver')\n",
    "# \n",
    "# \n",
    "# ax3 = fig.add_subplot(513)\n",
    "# plt.plot(eda_signal.data - eda_signal.tonic_data)\n",
    "# plt.title('Original SC Data minus Tonic Data')\n",
    "# \n",
    "# ax4 = fig.add_subplot(514)\n",
    "# plt.plot(eda_signal.phasic_driver)\n",
    "# plt.ylim([-5,15])\n",
    "# plt.title('Phasic Driver')\n",
    "# \n",
    "# ax5 = fig.add_subplot(515)\n",
    "# plt.plot(eda_signal.tonic_data, label='Tonic')\n",
    "# plt.plot(eda_signal.phasic_data, label='Phasic')\n",
    "# plt.plot(eda_signal.phasic_data + eda_signal.tonic_data, label='Reconstructed Signal')\n",
    "# plt.title('Reconstructed Signal')\n",
    "# plt.legend()"
   ]
  }
 ],
 "metadata": {
  "kernelspec": {
   "display_name": "Python 3",
   "language": "python",
   "name": "python3"
  },
  "language_info": {
   "codemirror_mode": {
    "name": "ipython",
    "version": 3
   },
   "file_extension": ".py",
   "mimetype": "text/x-python",
   "name": "python",
   "nbconvert_exporter": "python",
   "pygments_lexer": "ipython3",
   "version": "3.4.3"
  }
 },
 "nbformat": 4,
 "nbformat_minor": 0
}
